{
 "cells": [
  {
   "cell_type": "code",
   "execution_count": 11,
   "id": "2b4a7b97-caa9-42b7-8f5d-de593e15028f",
   "metadata": {},
   "outputs": [],
   "source": [
    "import random\n",
    "import os"
   ]
  },
  {
   "cell_type": "code",
   "execution_count": 12,
   "id": "300534c9-efa7-4516-af8c-73a33e268e44",
   "metadata": {},
   "outputs": [
    {
     "data": {
      "text/plain": [
       "['Apple banana cow dog cat ',\n",
       " 'java',\n",
       " 'python',\n",
       " 'pandas ',\n",
       " 'tikinter',\n",
       " 'opencv']"
      ]
     },
     "execution_count": 12,
     "metadata": {},
     "output_type": "execute_result"
    }
   ],
   "source": [
    "def file_of_words(path):\n",
    "    try:\n",
    "        with open(path) as file:\n",
    "            return file.read().splitlines()\n",
    "    except FileNotFoundError : \n",
    "        return[\"File Not found!! make sure forom yuor path\"]\n",
    "        \n",
    "words = file_of_words(r\"C:\\Users\\qappa\\OneDrive\\Desktop\\Hangman File.txt\")\n",
    "words"
   ]
  },
  {
   "cell_type": "code",
   "execution_count": 13,
   "id": "5f5ce00c-0aee-4df1-b01e-0de7b3b9496d",
   "metadata": {},
   "outputs": [],
   "source": [
    "def save_scores(scores, file_path= (r\"C:\\Users\\qappa\\OneDrive\\Desktop\\scores.txt\")):\n",
    "    with open(file_path, \"w\") as file:\n",
    "        for name, record in scores.items():\n",
    "            file.write(f\"{name}:{record['win']}:{record['lose']}\\n\")"
   ]
  },
  {
   "cell_type": "code",
   "execution_count": 14,
   "id": "29cf7f1b-fc00-41ad-b7a1-adb15a404976",
   "metadata": {},
   "outputs": [],
   "source": [
    "def load_scores(file_path= (r\"C:\\Users\\qappa\\OneDrive\\Desktop\\scores.txt\")):\n",
    "    scores = {}\n",
    "    if os.path.exists(file_path):\n",
    "        with open(file_path, \"r\") as file:\n",
    "            for line in file:\n",
    "                parts = line.strip().split(\":\")\n",
    "                if len(parts) == 3:\n",
    "                    name, wins, losses = parts\n",
    "                    try:\n",
    "                        scores[name] = {\"win\": int(wins.strip()), \"lose\": int(losses.strip())}\n",
    "                    except ValueError:\n",
    "                        print(f\"Skipping invalid line in scores file: {line.strip()}\")\n",
    "    return scores"
   ]
  },
  {
   "cell_type": "code",
   "execution_count": 15,
   "id": "af43d7e1-cedf-492a-bc0a-dfc01c48e3a0",
   "metadata": {},
   "outputs": [
    {
     "data": {
      "text/plain": [
       "'tikinter'"
      ]
     },
     "execution_count": 15,
     "metadata": {},
     "output_type": "execute_result"
    }
   ],
   "source": [
    "Random_word = random.choice(words)\n",
    "Random_word"
   ]
  },
  {
   "cell_type": "code",
   "execution_count": 16,
   "id": "85db09c7-e820-401d-ab77-480b0aa40ae4",
   "metadata": {},
   "outputs": [],
   "source": [
    "def leaderboard():\n",
    "    print(\"\\nPlayer Name : Win : Lose\")\n",
    "    top_players = sorted(scores.items(), key=lambda x: x[1]['win'] - x[1]['lose'], reverse=True)[:3]\n",
    "    for name, record in top_players:\n",
    "        print(f\"{name} : {record['win']} : {record['lose']}\")\n"
   ]
  },
  {
   "cell_type": "code",
   "execution_count": 17,
   "id": "6cba28da-d3c9-484e-bdc6-306f71b4312b",
   "metadata": {},
   "outputs": [],
   "source": [
    "scores = load_scores()\n",
    "def Hangman(name):\n",
    "    temp_scores = scores.copy()\n",
    "    while True:\n",
    "        word = Random_word\n",
    "        hidden = list(\"_\" * len(word))\n",
    "        attempts = 7\n",
    "        \n",
    "        if name not in temp_scores:\n",
    "            temp_scores[name] = {\"win\": 0, \"lose\": 0}\n",
    "        \n",
    "        print(f\"\\n{name}, Wins: {temp_scores[name]['win']}, Losses: {temp_scores[name]['lose']}\")\n",
    "        \n",
    "        while attempts > 0 and \"_\" in hidden:\n",
    "            print(\"Word:\", \"\".join(hidden))\n",
    "            guess = input(\"Enter a letter: \").lower()\n",
    "            \n",
    "            if guess in word:\n",
    "                for i in range(len(word)):\n",
    "                    if word[i] == guess:\n",
    "                        hidden[i] = guess\n",
    "            else:\n",
    "                attempts -= 1\n",
    "                print(f\"Wrong! {attempts} attempts left.\")\n",
    "            \n",
    "        if \"_\" not in hidden:\n",
    "            print(f\"Congrats {name}! You guessed '{word}'!\")\n",
    "            temp_scores[name][\"win\"] += 1\n",
    "        else:\n",
    "            print(f\"Game over! The word was '{word}'\")\n",
    "            temp_scores[name][\"lose\"] += 1\n",
    "        \n",
    "        play_again = input(\"Do you want to play again? (y/n): \").strip().lower()\n",
    "        if play_again != \"y\":\n",
    "            scores.update(temp_scores)\n",
    "            save_scores(scores)\n",
    "            break\n",
    "        "
   ]
  },
  {
   "cell_type": "code",
   "execution_count": 18,
   "id": "19ab7d1c-cb99-46d9-9dcb-7782cb7d77a6",
   "metadata": {},
   "outputs": [
    {
     "name": "stdin",
     "output_type": "stream",
     "text": [
      "Enter your name:  ahmed\n"
     ]
    },
    {
     "name": "stdout",
     "output_type": "stream",
     "text": [
      "\n",
      "ahmed, Wins: 0, Losses: 0\n",
      "Word: ________\n"
     ]
    },
    {
     "name": "stdin",
     "output_type": "stream",
     "text": [
      "Enter a letter:  t\n"
     ]
    },
    {
     "name": "stdout",
     "output_type": "stream",
     "text": [
      "Word: t____t__\n"
     ]
    },
    {
     "name": "stdin",
     "output_type": "stream",
     "text": [
      "Enter a letter:  i\n"
     ]
    },
    {
     "name": "stdout",
     "output_type": "stream",
     "text": [
      "Word: ti_i_t__\n"
     ]
    },
    {
     "name": "stdin",
     "output_type": "stream",
     "text": [
      "Enter a letter:  k\n"
     ]
    },
    {
     "name": "stdout",
     "output_type": "stream",
     "text": [
      "Word: tiki_t__\n"
     ]
    },
    {
     "name": "stdin",
     "output_type": "stream",
     "text": [
      "Enter a letter:  n\n"
     ]
    },
    {
     "name": "stdout",
     "output_type": "stream",
     "text": [
      "Word: tikint__\n"
     ]
    },
    {
     "name": "stdin",
     "output_type": "stream",
     "text": [
      "Enter a letter:  e\n"
     ]
    },
    {
     "name": "stdout",
     "output_type": "stream",
     "text": [
      "Word: tikinte_\n"
     ]
    },
    {
     "name": "stdin",
     "output_type": "stream",
     "text": [
      "Enter a letter:  r\n"
     ]
    },
    {
     "name": "stdout",
     "output_type": "stream",
     "text": [
      "Congrats ahmed! You guessed 'tikinter'!\n"
     ]
    },
    {
     "name": "stdin",
     "output_type": "stream",
     "text": [
      "Do you want to play again? (y/n):  n\n"
     ]
    },
    {
     "name": "stdout",
     "output_type": "stream",
     "text": [
      "\n",
      "Player Name : Win : Lose\n",
      "ahmed : 1 : 0\n",
      "qappaney : 2 : 2\n",
      "mohamed : 0 : 1\n"
     ]
    }
   ],
   "source": [
    "player_name = input(\"Enter your name: \")\n",
    "Hangman(player_name)\n",
    "leaderboard()"
   ]
  },
  {
   "cell_type": "code",
   "execution_count": 16,
   "id": "5767ad5b-6715-4f52-a881-80e27b246a4f",
   "metadata": {},
   "outputs": [
    {
     "name": "stdin",
     "output_type": "stream",
     "text": [
      "Enter your name:  mohamed\n"
     ]
    },
    {
     "name": "stdout",
     "output_type": "stream",
     "text": [
      "\n",
      "mohamed, Wins: 0, Losses: 0\n",
      "Word: _______\n"
     ]
    },
    {
     "name": "stdin",
     "output_type": "stream",
     "text": [
      "Enter a letter:  p\n"
     ]
    },
    {
     "name": "stdout",
     "output_type": "stream",
     "text": [
      "Word: p______\n"
     ]
    },
    {
     "name": "stdin",
     "output_type": "stream",
     "text": [
      "Enter a letter:  y\n"
     ]
    },
    {
     "name": "stdout",
     "output_type": "stream",
     "text": [
      "Word: py_____\n"
     ]
    },
    {
     "name": "stdin",
     "output_type": "stream",
     "text": [
      "Enter a letter:  t\n"
     ]
    },
    {
     "name": "stdout",
     "output_type": "stream",
     "text": [
      "Word: pyt____\n"
     ]
    },
    {
     "name": "stdin",
     "output_type": "stream",
     "text": [
      "Enter a letter:  h\n"
     ]
    },
    {
     "name": "stdout",
     "output_type": "stream",
     "text": [
      "Word: pyth___\n"
     ]
    },
    {
     "name": "stdin",
     "output_type": "stream",
     "text": [
      "Enter a letter:  o\n"
     ]
    },
    {
     "name": "stdout",
     "output_type": "stream",
     "text": [
      "Word: pytho__\n"
     ]
    },
    {
     "name": "stdin",
     "output_type": "stream",
     "text": [
      "Enter a letter:  n\n"
     ]
    },
    {
     "name": "stdout",
     "output_type": "stream",
     "text": [
      "Word: python_\n"
     ]
    },
    {
     "name": "stdin",
     "output_type": "stream",
     "text": [
      "Enter a letter:   \n"
     ]
    },
    {
     "name": "stdout",
     "output_type": "stream",
     "text": [
      "Congrats mohamed! You guessed 'python '!\n"
     ]
    },
    {
     "ename": "TypeError",
     "evalue": "'int' object is not subscriptable",
     "output_type": "error",
     "traceback": [
      "\u001b[1;31m---------------------------------------------------------------------------\u001b[0m",
      "\u001b[1;31mTypeError\u001b[0m                                 Traceback (most recent call last)",
      "Cell \u001b[1;32mIn[16], line 2\u001b[0m\n\u001b[0;32m      1\u001b[0m player_name \u001b[38;5;241m=\u001b[39m \u001b[38;5;28minput\u001b[39m(\u001b[38;5;124m\"\u001b[39m\u001b[38;5;124mEnter your name: \u001b[39m\u001b[38;5;124m\"\u001b[39m)\n\u001b[1;32m----> 2\u001b[0m \u001b[43mHangman\u001b[49m\u001b[43m(\u001b[49m\u001b[43mplayer_name\u001b[49m\u001b[43m)\u001b[49m\n",
      "Cell \u001b[1;32mIn[13], line 27\u001b[0m, in \u001b[0;36mHangman\u001b[1;34m(name)\u001b[0m\n\u001b[0;32m     24\u001b[0m     \u001b[38;5;28mprint\u001b[39m(\u001b[38;5;124mf\u001b[39m\u001b[38;5;124m\"\u001b[39m\u001b[38;5;124mGame over! The word was \u001b[39m\u001b[38;5;124m'\u001b[39m\u001b[38;5;132;01m{\u001b[39;00mword\u001b[38;5;132;01m}\u001b[39;00m\u001b[38;5;124m'\u001b[39m\u001b[38;5;124m\"\u001b[39m)\n\u001b[0;32m     25\u001b[0m     scores[name] \u001b[38;5;241m=\u001b[39m \u001b[38;5;28mmax\u001b[39m(\u001b[38;5;241m0\u001b[39m, scores\u001b[38;5;241m.\u001b[39mget(name, \u001b[38;5;241m0\u001b[39m) \u001b[38;5;241m-\u001b[39m \u001b[38;5;241m1\u001b[39m)\n\u001b[1;32m---> 27\u001b[0m \u001b[43msave_scores\u001b[49m\u001b[43m(\u001b[49m\u001b[43mscores\u001b[49m\u001b[43m)\u001b[49m\n",
      "Cell \u001b[1;32mIn[10], line 4\u001b[0m, in \u001b[0;36msave_scores\u001b[1;34m(scores, file_path)\u001b[0m\n\u001b[0;32m      2\u001b[0m \u001b[38;5;28;01mwith\u001b[39;00m \u001b[38;5;28mopen\u001b[39m(file_path, \u001b[38;5;124m\"\u001b[39m\u001b[38;5;124mw\u001b[39m\u001b[38;5;124m\"\u001b[39m) \u001b[38;5;28;01mas\u001b[39;00m file:\n\u001b[0;32m      3\u001b[0m     \u001b[38;5;28;01mfor\u001b[39;00m name, record \u001b[38;5;129;01min\u001b[39;00m scores\u001b[38;5;241m.\u001b[39mitems():\n\u001b[1;32m----> 4\u001b[0m         file\u001b[38;5;241m.\u001b[39mwrite(\u001b[38;5;124mf\u001b[39m\u001b[38;5;124m\"\u001b[39m\u001b[38;5;132;01m{\u001b[39;00mname\u001b[38;5;132;01m}\u001b[39;00m\u001b[38;5;124m:\u001b[39m\u001b[38;5;132;01m{\u001b[39;00m\u001b[43mrecord\u001b[49m\u001b[43m[\u001b[49m\u001b[38;5;124;43m'\u001b[39;49m\u001b[38;5;124;43mwin\u001b[39;49m\u001b[38;5;124;43m'\u001b[39;49m\u001b[43m]\u001b[49m\u001b[38;5;132;01m}\u001b[39;00m\u001b[38;5;124m:\u001b[39m\u001b[38;5;132;01m{\u001b[39;00mrecord[\u001b[38;5;124m'\u001b[39m\u001b[38;5;124mlose\u001b[39m\u001b[38;5;124m'\u001b[39m]\u001b[38;5;132;01m}\u001b[39;00m\u001b[38;5;130;01m\\n\u001b[39;00m\u001b[38;5;124m\"\u001b[39m)\n",
      "\u001b[1;31mTypeError\u001b[0m: 'int' object is not subscriptable"
     ]
    }
   ],
   "source": [
    "player_name = input(\"Enter your name: \")\n",
    "Hangman(player_name)"
   ]
  },
  {
   "cell_type": "code",
   "execution_count": 20,
   "id": "222000cf-9914-4bcb-a05c-9b4280b5aca4",
   "metadata": {},
   "outputs": [
    {
     "ename": "NameError",
     "evalue": "name 'mohamed' is not defined",
     "output_type": "error",
     "traceback": [
      "\u001b[1;31m---------------------------------------------------------------------------\u001b[0m",
      "\u001b[1;31mNameError\u001b[0m                                 Traceback (most recent call last)",
      "Cell \u001b[1;32mIn[20], line 1\u001b[0m\n\u001b[1;32m----> 1\u001b[0m Hangman(\u001b[43mmohamed\u001b[49m,)\n",
      "\u001b[1;31mNameError\u001b[0m: name 'mohamed' is not defined"
     ]
    }
   ],
   "source": [
    "Hangman(mohamed,)"
   ]
  },
  {
   "cell_type": "code",
   "execution_count": 21,
   "id": "8c12fc7e-a48d-4e25-b012-21aad1fa6260",
   "metadata": {},
   "outputs": [
    {
     "name": "stdout",
     "output_type": "stream",
     "text": [
      "\n",
      "mohamed, Score: 0\n",
      "Wrong! 6 attempts left.\n",
      "Word: _____\n",
      "Wrong! 5 attempts left.\n",
      "Word: _____\n",
      "Wrong! 4 attempts left.\n",
      "Word: _____\n",
      "Wrong! 3 attempts left.\n",
      "Word: _____\n",
      "Wrong! 2 attempts left.\n",
      "Word: _____\n",
      "Wrong! 1 attempts left.\n",
      "Word: _____\n"
     ]
    },
    {
     "ename": "NameError",
     "evalue": "name 'leaderboard' is not defined",
     "output_type": "error",
     "traceback": [
      "\u001b[1;31m---------------------------------------------------------------------------\u001b[0m",
      "\u001b[1;31mNameError\u001b[0m                                 Traceback (most recent call last)",
      "Cell \u001b[1;32mIn[21], line 3\u001b[0m\n\u001b[0;32m      1\u001b[0m \u001b[38;5;28;01mif\u001b[39;00m \u001b[38;5;18m__name__\u001b[39m \u001b[38;5;241m==\u001b[39m \u001b[38;5;124m\"\u001b[39m\u001b[38;5;124m__main__\u001b[39m\u001b[38;5;124m\"\u001b[39m:\n\u001b[0;32m      2\u001b[0m     Hangman(\u001b[38;5;124m\"\u001b[39m\u001b[38;5;124mmohamed\u001b[39m\u001b[38;5;124m\"\u001b[39m, [\u001b[38;5;124m\"\u001b[39m\u001b[38;5;124mp\u001b[39m\u001b[38;5;124m\"\u001b[39m, \u001b[38;5;124m\"\u001b[39m\u001b[38;5;124my\u001b[39m\u001b[38;5;124m\"\u001b[39m, \u001b[38;5;124m\"\u001b[39m\u001b[38;5;124mt\u001b[39m\u001b[38;5;124m\"\u001b[39m, \u001b[38;5;124m\"\u001b[39m\u001b[38;5;124mh\u001b[39m\u001b[38;5;124m\"\u001b[39m, \u001b[38;5;124m\"\u001b[39m\u001b[38;5;124mo\u001b[39m\u001b[38;5;124m\"\u001b[39m, \u001b[38;5;124m\"\u001b[39m\u001b[38;5;124mn\u001b[39m\u001b[38;5;124m\"\u001b[39m])\n\u001b[1;32m----> 3\u001b[0m     \u001b[43mleaderboard\u001b[49m()\n",
      "\u001b[1;31mNameError\u001b[0m: name 'leaderboard' is not defined"
     ]
    }
   ],
   "source": [
    "if __name__ == \"__main__\":\n",
    "    Hangman(\"mohamed\", [\"p\", \"y\", \"t\", \"h\", \"o\", \"n\"])\n",
    "    leaderboard()"
   ]
  },
  {
   "cell_type": "code",
   "execution_count": null,
   "id": "0305d43f-75ff-465f-a96e-df6b074bee55",
   "metadata": {},
   "outputs": [],
   "source": []
  }
 ],
 "metadata": {
  "kernelspec": {
   "display_name": "Python 3 (ipykernel)",
   "language": "python",
   "name": "python3"
  },
  "language_info": {
   "codemirror_mode": {
    "name": "ipython",
    "version": 3
   },
   "file_extension": ".py",
   "mimetype": "text/x-python",
   "name": "python",
   "nbconvert_exporter": "python",
   "pygments_lexer": "ipython3",
   "version": "3.13.1"
  }
 },
 "nbformat": 4,
 "nbformat_minor": 5
}
